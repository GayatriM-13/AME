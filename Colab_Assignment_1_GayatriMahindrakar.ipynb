{
  "nbformat": 4,
  "nbformat_minor": 0,
  "metadata": {
    "colab": {
      "provenance": [],
      "gpuType": "T4",
      "toc_visible": true,
      "mount_file_id": "1GqwTlSYpIS8UTx6984oEF-V7GhprdH_G",
      "authorship_tag": "ABX9TyOXdN9wiTCOodegIvvAcig1",
      "include_colab_link": true
    },
    "kernelspec": {
      "name": "python3",
      "display_name": "Python 3"
    },
    "language_info": {
      "name": "python"
    },
    "accelerator": "GPU"
  },
  "cells": [
    {
      "cell_type": "markdown",
      "metadata": {
        "id": "view-in-github",
        "colab_type": "text"
      },
      "source": [
        "<a href=\"https://colab.research.google.com/github/GayatriM-13/AME/blob/master/Colab_Assignment_1_GayatriMahindrakar.ipynb\" target=\"_parent\"><img src=\"https://colab.research.google.com/assets/colab-badge.svg\" alt=\"Open In Colab\"/></a>"
      ]
    },
    {
      "cell_type": "markdown",
      "source": [
        "***MLC Colab Assignment: This notebook contains code to create a  list of numbers from 1 to 10 and print it. It also verifies if the runtime type is changed to GPU and lists the contents from Google Drive***"
      ],
      "metadata": {
        "id": "fsQmhUNjZGrN"
      }
    },
    {
      "cell_type": "markdown",
      "source": [
        "#Print Text"
      ],
      "metadata": {
        "id": "rnjSF8HvfbNQ"
      }
    },
    {
      "cell_type": "code",
      "execution_count": 5,
      "metadata": {
        "colab": {
          "base_uri": "https://localhost:8080/"
        },
        "id": "QoliZmMyYUeG",
        "outputId": "afaac14c-69e1-468d-a0e5-69da9f7b7277"
      },
      "outputs": [
        {
          "output_type": "stream",
          "name": "stdout",
          "text": [
            "Hello, Colab\n"
          ]
        }
      ],
      "source": [
        "print(\"Hello, Colab\")"
      ]
    },
    {
      "cell_type": "markdown",
      "source": [
        "#Create list of numbers from 1 to 10 and print it"
      ],
      "metadata": {
        "id": "X4K-6oUkf1QI"
      }
    },
    {
      "cell_type": "code",
      "source": [
        "numbers = list(range(1, 11))"
      ],
      "metadata": {
        "id": "gDoHUM13Ymqj"
      },
      "execution_count": 8,
      "outputs": []
    },
    {
      "cell_type": "code",
      "source": [
        "print(numbers)"
      ],
      "metadata": {
        "colab": {
          "base_uri": "https://localhost:8080/"
        },
        "id": "esmKf2PYY4YX",
        "outputId": "f3b7f71b-3d18-49ce-d19a-146c83ac8ef7"
      },
      "execution_count": null,
      "outputs": [
        {
          "output_type": "stream",
          "name": "stdout",
          "text": [
            "[1, 2, 3, 4, 5, 6, 7, 8, 9, 10]\n"
          ]
        }
      ]
    },
    {
      "cell_type": "markdown",
      "source": [
        "#Change runtime type to 'GPU' and verify"
      ],
      "metadata": {
        "id": "4c9hT8P_f7jM"
      }
    },
    {
      "cell_type": "code",
      "source": [
        "import tensorflow as tf\n",
        "tf.config.list_physical_devices('GPU')\n"
      ],
      "metadata": {
        "id": "AqJuBCm3dSyU"
      },
      "execution_count": 12,
      "outputs": []
    },
    {
      "cell_type": "markdown",
      "source": [
        "#Display drive contents"
      ],
      "metadata": {
        "id": "tAOy-2QbgAXZ"
      }
    },
    {
      "cell_type": "code",
      "source": [
        "%cd /content/drive/MyDrive\n",
        "!lsm\n",
        "m"
      ],
      "metadata": {
        "colab": {
          "base_uri": "https://localhost:8080/"
        },
        "id": "E_pceZqJecJS",
        "outputId": "4244b066-37ae-45ea-cc65-f0b530c65867"
      },
      "execution_count": null,
      "outputs": [
        {
          "output_type": "stream",
          "name": "stdout",
          "text": [
            "/content/drive/MyDrive\n",
            " Colab_Assignment_1_GayatriMahindrakar.ipynb  'Data Stats Final Project Video Presentation '\n",
            "'Colab Notebooks'\n"
          ]
        }
      ]
    },
    {
      "cell_type": "code",
      "source": [
        "!pwd"
      ],
      "metadata": {
        "colab": {
          "base_uri": "https://localhost:8080/"
        },
        "id": "IgBfrG7ei8u-",
        "outputId": "2a7112d9-1a91-4fc9-b000-329412c7201d"
      },
      "execution_count": 14,
      "outputs": [
        {
          "output_type": "stream",
          "name": "stdout",
          "text": [
            "/content/drive/MyDrive\n"
          ]
        }
      ]
    },
    {
      "cell_type": "code",
      "source": [
        "!ls"
      ],
      "metadata": {
        "colab": {
          "base_uri": "https://localhost:8080/"
        },
        "id": "1oPYy3YajBor",
        "outputId": "b76609a9-2df4-49cb-e219-83653897101e"
      },
      "execution_count": 15,
      "outputs": [
        {
          "output_type": "stream",
          "name": "stdout",
          "text": [
            " Colab_Assignment_1_GayatriMahindrakar.ipynb  'Data Stats Final Project Video Presentation '\n",
            "'Colab Notebooks'\n"
          ]
        }
      ]
    }
  ]
}